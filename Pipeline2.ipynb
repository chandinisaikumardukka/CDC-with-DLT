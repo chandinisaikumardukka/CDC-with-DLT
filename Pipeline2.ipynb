{
 "cells": [
  {
   "cell_type": "code",
   "execution_count": 0,
   "metadata": {
    "application/vnd.databricks.v1+cell": {
     "cellMetadata": {},
     "inputWidgets": {},
     "nuid": "8dff9d56-3065-4a75-83c3-ca9f1893515d",
     "showTitle": false,
     "tableResultSettingsMap": {},
     "title": ""
    }
   },
   "outputs": [],
   "source": [
    "CREATE OR REFRESH STREAMING LIVE TABLE bronze_customers\n",
    "AS SELECT * FROM cloud_files(\"/mnt/raw/customers\", \"csv\", map(\"header\", \"true\"));"
   ]
  },
  {
   "cell_type": "code",
   "execution_count": 0,
   "metadata": {
    "application/vnd.databricks.v1+cell": {
     "cellMetadata": {},
     "inputWidgets": {},
     "nuid": "2e09cab1-8bca-43bf-9d5a-2392a55de006",
     "showTitle": false,
     "tableResultSettingsMap": {},
     "title": ""
    }
   },
   "outputs": [],
   "source": [
    "CREATE OR REFRESH STREAMING LIVE TABLE bronze_employees\n",
    "AS SELECT * FROM cloud_files(\"/mnt/raw/employees\", \"csv\", map(\"header\", \"true\"));"
   ]
  },
  {
   "cell_type": "code",
   "execution_count": 0,
   "metadata": {
    "application/vnd.databricks.v1+cell": {
     "cellMetadata": {},
     "inputWidgets": {},
     "nuid": "50246fde-6fec-4737-9c86-f3048b2ace15",
     "showTitle": false,
     "tableResultSettingsMap": {},
     "title": ""
    }
   },
   "outputs": [],
   "source": [
    "CREATE OR REFRESH STREAMING LIVE TABLE bronze_products\n",
    "AS SELECT * FROM cloud_files(\"/mnt/raw/products\", \"csv\", map(\"header\", \"true\"));"
   ]
  },
  {
   "cell_type": "code",
   "execution_count": 0,
   "metadata": {
    "application/vnd.databricks.v1+cell": {
     "cellMetadata": {},
     "inputWidgets": {},
     "nuid": "4a856bd4-9f4b-442a-a5f7-b19188b038f9",
     "showTitle": false,
     "tableResultSettingsMap": {},
     "title": ""
    }
   },
   "outputs": [],
   "source": [
    "CREATE OR REFRESH STREAMING TABLE silver_customers;\n",
    "APPLY CHANGES INTO\n",
    "  live.silver_customers\n",
    "FROM\n",
    "  stream(LIve.bronze_customers)\n",
    "KEYS\n",
    "  (customer_id)\n",
    "SEQUENCE BY\n",
    "  updated_at\n",
    "COLUMNS * EXCEPT\n",
    "  (_rescued_data\n",
    ")\n",
    "STORED AS\n",
    "  SCD TYPE 1;"
   ]
  },
  {
   "cell_type": "code",
   "execution_count": 0,
   "metadata": {
    "application/vnd.databricks.v1+cell": {
     "cellMetadata": {},
     "inputWidgets": {},
     "nuid": "1b70d7b4-d28d-4aa7-b1e1-860b926d82a1",
     "showTitle": false,
     "tableResultSettingsMap": {},
     "title": ""
    }
   },
   "outputs": [],
   "source": [
    "CREATE OR REFRESH STREAMING TABLE silver_employees;\n",
    "APPLY CHANGES INTO\n",
    "  live.silver_employees\n",
    "FROM\n",
    "  stream(LIve.bronze_employees)\n",
    "KEYS\n",
    "  (employee_id)\n",
    "SEQUENCE BY\n",
    "  updated_at\n",
    "COLUMNS * EXCEPT\n",
    "  (_rescued_data\n",
    ")\n",
    "STORED AS\n",
    "  SCD TYPE 2;"
   ]
  },
  {
   "cell_type": "code",
   "execution_count": 0,
   "metadata": {
    "application/vnd.databricks.v1+cell": {
     "cellMetadata": {},
     "inputWidgets": {},
     "nuid": "b366b428-b744-443d-9f51-7929c67c7fa1",
     "showTitle": false,
     "tableResultSettingsMap": {},
     "title": ""
    }
   },
   "outputs": [],
   "source": [
    "create OR REFRESH streaming table silver_products\n",
    "(\n",
    " constraint valid_category expect (category is not null) on violation drop row\n",
    ")\n",
    "as\n",
    "select product_id\n",
    ",name\n",
    ",category\n",
    ",price\n",
    ",in_stock from Stream(LIVE.bronze_products)"
   ]
  }
 ],
 "metadata": {
  "application/vnd.databricks.v1+notebook": {
   "computePreferences": null,
   "dashboards": [],
   "environmentMetadata": {
    "base_environment": "",
    "environment_version": "2"
   },
   "inputWidgetPreferences": null,
   "language": "sql",
   "notebookMetadata": {
    "pythonIndentUnit": 4
   },
   "notebookName": "Pipeline2",
   "widgets": {}
  },
  "language_info": {
   "name": "sql"
  }
 },
 "nbformat": 4,
 "nbformat_minor": 0
}